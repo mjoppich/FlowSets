{
 "cells": [
  {
   "cell_type": "markdown",
   "metadata": {},
   "source": [
    "# Setup pipeline and initialize the three models"
   ]
  },
  {
   "cell_type": "code",
   "execution_count": null,
   "metadata": {},
   "outputs": [],
   "source": [
    "%load_ext autoreload\n",
    "\n",
    "import os, sys\n",
    "sys.path.insert(0, \"../\")\n",
    "\n",
    "%autoreload 2\n",
    "from flowset import *\n",
    "\n",
    "import matplotlib as mpl\n",
    "mpl.rcParams['figure.dpi'] = 300\n",
    "\n",
    "\n",
    "\n",
    "from os import listdir\n",
    "from os.path import isfile, join\n",
    "from upsetplot import plot, from_contents,UpSet\n",
    "\n"
   ]
  },
  {
   "cell_type": "code",
   "execution_count": null,
   "metadata": {},
   "outputs": [],
   "source": [
    "def download_and_unzip(download_url_link, dir_path, zipped_filename,destination_dir_name):\n",
    "    #https://www.tutorialsbuddy.com/download-and-unzip-a-zipped-file-in-python\n",
    "    print(\"Download starting\")\n",
    "    urllib.request.urlretrieve(\n",
    "        download_url_link, os.path.join(dir_path, zipped_filename)\n",
    "    )\n",
    "    print(\"Download complete\")\n",
    "\n",
    "    print(\"unzipping file starting\")\n",
    "    with zipfile.ZipFile(os.path.join(dir_path, zipped_filename), \"r\") as zip_file:\n",
    "        zip_file.extractall(os.path.join(dir_path, destination_dir_name))\n",
    "    print(\"unzipping complete\")\n",
    "\n",
    "\n",
    "if not os.path.exists(\"ReactomePathways.gmt\"):\n",
    "    download_and_unzip(\"https://reactome.org/download/current/ReactomePathways.gmt.zip\", \".\", \"ReactomePathways.gmt.zip\", \".\")"
   ]
  },
  {
   "cell_type": "code",
   "execution_count": null,
   "metadata": {},
   "outputs": [],
   "source": [
    "exprData = pl.read_csv(\"./summarised_simulated_scdata_random.tsv\", has_header=True, sep=\"\\t\", null_values=[\"NA\"])\n",
    "print(exprData)"
   ]
  },
  {
   "cell_type": "code",
   "execution_count": null,
   "metadata": {},
   "outputs": [],
   "source": [
    "def pl_hist(df, column, n_bins=100,):\n",
    "    data = df.select(pl.col(column))\n",
    "    \n",
    "    fig, ax = plt.subplots(1, 1, tight_layout=True)\n",
    "    ax.hist(data, bins=n_bins, density=True)\n",
    "    \n",
    "    plt.show()\n",
    "    plt.close()\n",
    "pl_hist(exprData, \"mean.cluster\")\n",
    "pl_hist(exprData, \"expr.cluster\")"
   ]
  },
  {
   "cell_type": "code",
   "execution_count": null,
   "metadata": {},
   "outputs": [],
   "source": [
    "explDFRaw, mfFuzzy = FlowAnalysis.fuzzify_exprvalues(exprData, stepsize=0.1,seriesOrder=[\"cluster.wildtype\", \"cluster.knockout01\", \"cluster.knockout02\", \"cluster.knockout03\"],mfLevels = [\"NO\",\"NOLOW\",\"LOW\",\"LOWMED\",\"MED\",\"MEDHIGH\",\"HIGH\"],centers=[.1,.5,.9,1.3,1.7,2.1,2.5])\n",
    "explDFWide = FlowAnalysis.to_vwide(explDFRaw, mfFuzzy)\n",
    "print(explDFWide)"
   ]
  },
  {
   "cell_type": "code",
   "execution_count": null,
   "metadata": {},
   "outputs": [],
   "source": [
    "fa_triangular = FlowAnalysis(explDFWide, \"gene\", ((\"wildtype\",\"WT\"), (\"knockout01\",\"K01\"),  (\"knockout02\",\"KO2\"),  (\"knockout03\",\"KO3\")), mfFuzzy) \n",
    "fa_triangular.plot_flows()"
   ]
  },
  {
   "cell_type": "code",
   "execution_count": null,
   "metadata": {},
   "outputs": [],
   "source": [
    "\n",
    "explDFRaw, mfFuzzy = FlowAnalysis.exprDF2LongDF(exprData, stepsize=0.1,seriesOrder=[\"cluster.wildtype\", \"cluster.knockout01\", \"cluster.knockout02\", \"cluster.knockout03\"],mfLevels = [\"NO\",\"NOLOW\",\"LOW\",\"LOWMED\",\"MED\",\"MEDHIGH\",\"HIGH\"],centers=[.1,.5,.9,1.3,1.7,2.1,2.5],shape=\"gauss\")\n",
    "explDFWide = FlowAnalysis.to_vwide(explDFRaw, mfFuzzy)\n",
    "print(explDFWide)\n",
    "fa_gaussian = FlowAnalysis(explDFWide, \"gene\",((\"wildtype\",\"WT\"),  (\"knockout01\",\"K01\"),  (\"knockout02\",\"KO2\"),  (\"knockout03\",\"KO3\")), mfFuzzy) \n",
    "fa_gaussian.plot_flows()\n"
   ]
  },
  {
   "cell_type": "code",
   "execution_count": null,
   "metadata": {},
   "outputs": [],
   "source": [
    "explDFRaw, mfFuzzy = FlowAnalysis.exprDF2LongDF(exprData, stepsize=0.1,seriesOrder=[\"cluster.wildtype\", \"cluster.knockout01\", \"cluster.knockout02\", \"cluster.knockout03\"],mfLevels = [\"NO\",\"NOLOW\",\"LOW\",\"LOWMED\",\"MED\",\"MEDHIGH\",\"HIGH\"],centers=[.1,.5,.9,1.3,1.7,2.1,2.5], sdcolName=None, shape=\"crisp\")\n",
    "explDFWide = FlowAnalysis.to_vwide(explDFRaw, mfFuzzy)\n",
    "print(explDFWide)\n",
    "fa_crisp = FlowAnalysis(explDFWide, \"gene\",((\"wildtype\",\"WT\"),  (\"knockout01\",\"K01\"),  (\"knockout02\",\"KO2\"),  (\"knockout03\",\"KO3\")), mfFuzzy) \n",
    "fa_crisp.plot_flows()\n"
   ]
  },
  {
   "cell_type": "code",
   "execution_count": null,
   "metadata": {},
   "outputs": [],
   "source": [
    "\n",
    "fa_crisp.hist_level_membershipsum()\n",
    "fa_gaussian.hist_level_membershipsum()\n",
    "fa_triangular.hist_level_membershipsum()\n"
   ]
  },
  {
   "cell_type": "code",
   "execution_count": null,
   "metadata": {},
   "outputs": [],
   "source": [
    "pw_file=\"go_human_filtered.bp.gmt\"\n",
    "rp = fa_crisp.read_gmt_file(pw_file)\n"
   ]
  },
  {
   "cell_type": "code",
   "execution_count": null,
   "metadata": {},
   "outputs": [],
   "source": [
    "alteredPathways=pd.read_csv('simulated_changingPathways_random.tsv',sep='\\t')\n",
    "\n",
    "pattern_groups=dict()\n",
    "for pattern in alteredPathways[alteredPathways.duplicated() == False].iterrows():\n",
    "    strpattern = '-'.join(pattern[-1].astype(str))\n",
    "    pattern_groups[strpattern]=alteredPathways[[x[-1].equals(pattern[-1]) for x in alteredPathways.iterrows()]].index\n",
    "\n",
    "pattern_groups"
   ]
  },
  {
   "cell_type": "code",
   "execution_count": null,
   "metadata": {},
   "outputs": [],
   "source": [
    "changed_genes= pd.read_csv(\"./simulated_changingGenes_random.tsv\",sep=\"\\t\")\n",
    "\n",
    "fig = plt.figure() \n",
    "ax = fig.add_subplot(2, 1, 1) \n",
    "for index, row in changed_genes.iterrows(): \n",
    "    plt.plot(row,label=index)\n",
    "\n",
    "ax.set_yscale('log')\n",
    "\n",
    "changed_genes=changed_genes[changed_genes.max(axis=1)>0.2] \n",
    "\n",
    "fig = plt.figure() \n",
    "ax = fig.add_subplot(2, 1, 1) \n",
    "for index, row in changed_genes.iterrows(): \n",
    "    plt.plot(row,label=index)\n",
    "\n",
    "ax.set_yscale('log')\n",
    "\n",
    "changed_genes_list=set(changed_genes.index)"
   ]
  },
  {
   "cell_type": "markdown",
   "metadata": {
    "tags": []
   },
   "source": [
    "\n",
    "# Basic overview over the memberships of the altered genes in the differnt states and models"
   ]
  },
  {
   "cell_type": "code",
   "execution_count": null,
   "metadata": {},
   "outputs": [],
   "source": [
    "\n",
    "pwnames=[rp[x][0] for x in rp]\n",
    "\n",
    "for key, value in pattern_groups.items():\n",
    "    union_geneset=[rp[list(rp.keys())[pwnames.index(p)]][1] for p in value]\n",
    "    union_geneset = [item for sublist in union_geneset for item in sublist]\n",
    "    union_geneset=list(set(union_geneset).intersection(changed_genes_list))\n",
    "\n",
    "    print(union_geneset)\n",
    "\n",
    "    fa_crisp.plot_state_memberships(union_geneset,\"Crisp: Pattern -> \"+key,cluster_genes=True)\n",
    "    fa_crisp.plot_genes_membership(union_geneset)\n",
    "    fa_crisp.plot_genes(union_geneset,min_flow=.010)\n",
    "\n",
    "\n",
    "    fa_gaussian.plot_state_memberships(union_geneset,\"Gaussian: Pattern -> \"+key,cluster_genes=True)\n",
    "    fa_gaussian.plot_genes_membership(union_geneset)\n",
    "    fa_gaussian.plot_genes(union_geneset,min_flow=.010)\n",
    "\n",
    "    fa_triangular.plot_state_memberships(union_geneset,\"Triangular: Pattern -> \"+key,cluster_genes=True)\n",
    "    fa_triangular.plot_genes_membership(union_geneset)\n",
    "    fa_triangular.plot_genes(union_geneset,min_flow=.01)\n",
    "\n",
    "\n"
   ]
  },
  {
   "cell_type": "code",
   "execution_count": null,
   "metadata": {},
   "outputs": [],
   "source": [
    "\n",
    "fa_crisp.plot_genes([\"TLR4\"],min_flow=0.05)\n",
    "fa_gaussian.plot_genes([\"TLR4\"],min_flow=0.05)\n",
    "fa_triangular.plot_genes([\"TLR4\"],min_flow=0.05)\n"
   ]
  },
  {
   "cell_type": "markdown",
   "metadata": {},
   "source": [
    "# Analyse \"UP\" pattern\n",
    "The first pattern is analyzed.\n",
    "First with only the genes changed through the pathways and then pathway enrichment."
   ]
  },
  {
   "cell_type": "code",
   "execution_count": null,
   "metadata": {},
   "outputs": [],
   "source": [
    "# Analyse simulated UP pattern\n",
    "\n",
    "up_geneset=[]\n",
    "up_pathways=[]\n",
    "key=list(pattern_groups.keys())[0]\n",
    "value=pattern_groups[key]\n",
    "union_geneset=[rp[list(rp.keys())[pwnames.index(p)]][1] for p in value]\n",
    "up_pathways=[list(rp.keys())[pwnames.index(p)] for p in value]\n",
    "up_geneset_temp = [item for sublist in union_geneset for item in sublist]\n",
    "\n",
    "relFlows = set().union(*\n",
    "    [\n",
    "    fa_crisp.flow_finder([\"=\", \"<<\", \"=\"], verbose=True)\n",
    "    ]\n",
    ")\n",
    "\n",
    "\n",
    "up_geneset=set(up_geneset_temp).intersection(changed_genes_list)\n",
    "\n",
    "print(len(up_geneset))"
   ]
  },
  {
   "cell_type": "code",
   "execution_count": null,
   "metadata": {
    "tags": []
   },
   "outputs": [],
   "source": [
    "module2=[\"TLR4\",\"HYKK\",\"LACC1\",\"PPP2R5B\",\"CD81\",\"ESYT1\"]\n",
    "print(len(module2))\n",
    "print(sum([ x in up_geneset for x in module2] ))\n",
    "print(sum([ x in  set(up_geneset_temp)   for x in module2] ))\n",
    "\n",
    "\n",
    "confusion_matrix(up_geneset,module2,list(fa_crisp.flows.select(pl.col(fa_crisp.symbol_column)).to_series()),outfile=\"./confusion_matrices/Genes_pattern1_wgcna.csv\")\n"
   ]
  },
  {
   "cell_type": "code",
   "execution_count": null,
   "metadata": {},
   "outputs": [],
   "source": [
    "\n",
    "genes_to_consider=len(up_geneset)\n",
    "genes, scores_df,_=fa_crisp.plot_flow_memberships(use_flows=relFlows,color_genes=up_geneset,n_genes=genes_to_consider)\n",
    "fa_crisp.get_confusion_matrix(scores_df,up_geneset,genes_to_consider,outfile=\"./confusion_matrices/Genes_pattern1_crisp.csv\")\n",
    "\n",
    "genes, scores_df,_=fa_gaussian.plot_flow_memberships(use_flows=relFlows,color_genes=up_geneset,n_genes=genes_to_consider)\n",
    "fa_gaussian.get_confusion_matrix(scores_df,up_geneset,genes_to_consider,outfile=\"./confusion_matrices/Genes_pattern1_gaussian.csv\")\n",
    "\n",
    "genes, scores_df,_=fa_triangular.plot_flow_memberships(use_flows=relFlows,color_genes=up_geneset,n_genes=genes_to_consider)\n",
    "fa_triangular.get_confusion_matrix(scores_df,up_geneset,genes_to_consider,outfile=\"./confusion_matrices/Genes_pattern1_triangular.csv\")"
   ]
  },
  {
   "cell_type": "code",
   "execution_count": null,
   "metadata": {},
   "outputs": [],
   "source": [
    "\n",
    "pwScores_crisp = fa_crisp.analyse_pathways_grouped(use_flows=relFlows,pathways_file=pw_file)\n",
    "pwScores_signif_crisp=pwScores_crisp[pwScores_crisp[\"adj_pval\"]<0.05]\n",
    "print(\"Crisp) Found: \"+ str(pwScores_signif_crisp[pwScores_signif_crisp[\"pwid\"].isin(up_pathways)].shape[0])+\" / \"+str(len(up_pathways))+\" with  \"+ str(pwScores_signif_crisp.shape[0]) +\" significant\")\n",
    "confusion_matrix(up_pathways,pwScores_signif_crisp[\"pwid\"],pwScores_crisp[\"pwid\"],outfile=\"./confusion_matrices/Pathways_pattern1_crisp.csv\")\n",
    "\n",
    "pwScores_gaussian = fa_gaussian.analyse_pathways_grouped(use_flows=relFlows,pathways_file=pw_file)\n",
    "pwScores_signif_gaussian=pwScores_gaussian[pwScores_gaussian[\"adj_pval\"]<0.05]\n",
    "print(\"Gaussian) Found: \"+ str(pwScores_signif_gaussian[pwScores_signif_gaussian[\"pwid\"].isin(up_pathways)].shape[0])+\" / \"+str(len(up_pathways))+\" with  \"+ str(pwScores_signif_gaussian.shape[0]) +\" significant\")\n",
    "confusion_matrix(up_pathways,pwScores_signif_gaussian[\"pwid\"],pwScores_gaussian[\"pwid\"],outfile=\"./confusion_matrices/Pathways_pattern1_gaussian.csv\")\n",
    "\n",
    "pwScores_triangular = fa_triangular.analyse_pathways_grouped(use_flows=relFlows,pathways_file=pw_file)\n",
    "pwScores_signif_triangular=pwScores_triangular[pwScores_triangular[\"adj_pval\"]<0.05]\n",
    "print(\"Triangular) Found: \"+ str(pwScores_signif_triangular[pwScores_signif_triangular[\"pwid\"].isin(up_pathways)].shape[0])+\" / \"+str(len(up_pathways))+\" with  \"+ str(pwScores_signif_triangular.shape[0]) +\" significant\")\n",
    "confusion_matrix(up_pathways,pwScores_signif_triangular[\"pwid\"],pwScores_triangular[\"pwid\"],outfile=\"./confusion_matrices/Pathways_pattern1_triangular.csv\")\n",
    "\n",
    "results={ 'triangular': pwScores_signif_triangular[\"pwid\"], 'gaussian': pwScores_signif_gaussian[\"pwid\"], 'crisp': pwScores_signif_crisp[\"pwid\"] }\n",
    "\n",
    "\n",
    "upset=from_contents(results)\n",
    "upsetpl = UpSet(upset, orientation='vertical')\n",
    "upsetpl.plot()    \n",
    "\n",
    "plt.suptitle(\"Overlaps of genesets found with the different fuzzy concepts\")\n",
    "plt.show()"
   ]
  },
  {
   "cell_type": "markdown",
   "metadata": {},
   "source": [
    "# Temp up pattern\n"
   ]
  },
  {
   "cell_type": "code",
   "execution_count": null,
   "metadata": {},
   "outputs": [],
   "source": [
    "# Analyse tUP pattern\n",
    "\n",
    "tup_geneset=[]\n",
    "tup_pathways=[]\n",
    "key=list(pattern_groups.keys())[1]\n",
    "value=pattern_groups[key]\n",
    "union_geneset=[rp[list(rp.keys())[pwnames.index(p)]][1] for p in value]\n",
    "tup_pathways=[list(rp.keys())[pwnames.index(p)] for p in value]\n",
    "tup_geneset_temp = [item for sublist in union_geneset for item in sublist]\n",
    "\n",
    "relFlows = set().union(*\n",
    "    [\n",
    "\n",
    "    fa_triangular.flow_finder([\"<<\", \"=\", \">>\"], verbose=True)\n",
    "    ]\n",
    ")\n",
    "tup_geneset=set(tup_geneset_temp).intersection(changed_genes_list)\n",
    "print(len(tup_geneset))"
   ]
  },
  {
   "cell_type": "code",
   "execution_count": null,
   "metadata": {
    "tags": []
   },
   "outputs": [],
   "source": [
    "module1=[\"IKBKB\",\"ROCK1\",\"ROCK2\",\"RC3H2\",\"ETFB\",\"PRKN\",\"PARK7\",\"TNF\",\"SNX\",\"IL4I1\",\"RC3H1\",\"ATF5\",\"MARK4\",\"MCPH1\",\"PHH\",\"FNBP1L\",\"GGPS1\"]\n",
    "print(len(module1))\n",
    "print(sum([ x in tup_geneset for x in module1] ))\n",
    "print(sum([ x in  set(tup_geneset_temp)   for x in module1] ))\n",
    "\n",
    "confusion_matrix(tup_geneset,module1,list(fa_crisp.flows.select(pl.col(fa_crisp.symbol_column)).to_series()),outfile=\"./confusion_matrices/Genes_pattern2_wgcna.csv\")\n"
   ]
  },
  {
   "cell_type": "code",
   "execution_count": null,
   "metadata": {},
   "outputs": [],
   "source": [
    "\n",
    "genes_consider=len(tup_geneset)\n",
    "\n",
    "genes, scores_df,_=fa_crisp.plot_flow_memberships(use_flows=relFlows,color_genes=tup_geneset,n_genes=genes_consider)\n",
    "fa_crisp.get_confusion_matrix(scores_df,tup_geneset,genes_consider,outfile=\"./confusion_matrices/Genes_pattern2_crisp.csv\")\n",
    "\n",
    "genes, scores_df,_=fa_gaussian.plot_flow_memberships(use_flows=relFlows,color_genes=tup_geneset,n_genes=genes_consider)\n",
    "fa_gaussian.get_confusion_matrix(scores_df,tup_geneset,genes_consider,outfile=\"./confusion_matrices/Genes_pattern2_gaussian.csv\")\n",
    "\n",
    "genes, scores_df,_=fa_triangular.plot_flow_memberships(use_flows=relFlows,color_genes=tup_geneset,n_genes=genes_consider)\n",
    "fa_triangular.get_confusion_matrix(scores_df,tup_geneset,genes_consider,outfile=\"./confusion_matrices/Genes_pattern2_triangular.csv\")"
   ]
  },
  {
   "cell_type": "code",
   "execution_count": null,
   "metadata": {},
   "outputs": [],
   "source": [
    "\n",
    "pwScores_crisp = fa_crisp.analyse_pathways_grouped(use_flows=relFlows,pathways_file=pw_file)\n",
    "pwScores_signif_crisp=pwScores_crisp[pwScores_crisp[\"adj_pval\"]<0.05]\n",
    "print(\"Crisp) Found: \"+ str(pwScores_signif_crisp[pwScores_signif_crisp[\"pwid\"].isin(tup_pathways)].shape[0])+\" / \"+str(len(tup_pathways))+\" with  \"+ str(pwScores_signif_crisp.shape[0]) +\" significant\")\n",
    "confusion_matrix(tup_pathways,pwScores_signif_crisp[\"pwid\"],pwScores_crisp[\"pwid\"],outfile=\"./confusion_matrices/Pathways_pattern2_crisp.csv\")\n",
    "\n",
    "pwScores_gaussian = fa_gaussian.analyse_pathways_grouped(use_flows=relFlows,pathways_file=pw_file)\n",
    "pwScores_signif_gaussian=pwScores_gaussian[pwScores_gaussian[\"adj_pval\"]<0.05]\n",
    "print(\"Gaussian) Found: \"+ str(pwScores_signif_gaussian[pwScores_signif_gaussian[\"pwid\"].isin(tup_pathways)].shape[0])+\" / \"+str(len(tup_pathways))+\" with  \"+ str(pwScores_signif_gaussian.shape[0]) +\" significant\")\n",
    "confusion_matrix(tup_pathways,pwScores_signif_gaussian[\"pwid\"],pwScores_gaussian[\"pwid\"],outfile=\"./confusion_matrices/Pathways_pattern2_gaussian.csv\")\n",
    "\n",
    "pwScores_triangular = fa_triangular.analyse_pathways_grouped(use_flows=relFlows,pathways_file=pw_file)\n",
    "pwScores_signif_triangular=pwScores_triangular[pwScores_triangular[\"adj_pval\"]<0.05]\n",
    "print(\"Triangular) Found: \"+ str(pwScores_signif_triangular[pwScores_signif_triangular[\"pwid\"].isin(tup_pathways)].shape[0])+\" / \"+str(len(tup_pathways))+\" with  \"+ str(pwScores_signif_triangular.shape[0]) +\" significant\")\n",
    "confusion_matrix(tup_pathways,pwScores_signif_triangular[\"pwid\"],pwScores_triangular[\"pwid\"],outfile=\"./confusion_matrices/Pathways_pattern2_triangular.csv\")\n",
    "\n",
    "results={ 'triangular': pwScores_signif_triangular[\"pwid\"], 'gaussian': pwScores_signif_gaussian[\"pwid\"], 'crisp': pwScores_signif_crisp[\"pwid\"] }\n",
    "\n",
    "\n",
    "upset=from_contents(results)\n",
    "upsetpl = UpSet(upset, orientation='vertical')\n",
    "upsetpl.plot()    \n",
    "\n",
    "plt.suptitle(\"Overlaps of genesets found with the different fuzzy concepts\")\n",
    "plt.show()"
   ]
  },
  {
   "cell_type": "markdown",
   "metadata": {},
   "source": [
    "# DOWN pattern"
   ]
  },
  {
   "cell_type": "code",
   "execution_count": null,
   "metadata": {},
   "outputs": [],
   "source": [
    "# Analyse simulated DOWN pattern\n",
    "\n",
    "down_geneset=[]\n",
    "down_pathways=[]\n",
    "key=list(pattern_groups.keys())[2]\n",
    "value=pattern_groups[key]\n",
    "union_geneset=[rp[list(rp.keys())[pwnames.index(p)]][1] for p in value]\n",
    "down_pathways=[list(rp.keys())[pwnames.index(p)] for p in value]\n",
    "down_geneset = [item for sublist in union_geneset for item in sublist]\n",
    "\n",
    "relFlows = set().union(*\n",
    "    [\n",
    "    fa_triangular.flow_finder([\"=\", \">>\", \"=\"], verbose=True)\n",
    "    ]\n",
    ")\n",
    "\n",
    "down_geneset=set(down_geneset).intersection(changed_genes_list)\n",
    "print(len(down_geneset))"
   ]
  },
  {
   "cell_type": "code",
   "execution_count": null,
   "metadata": {},
   "outputs": [],
   "source": [
    "\n",
    "gene_to_consider=len(down_geneset)\n",
    "genes, scores_df,_=fa_crisp.plot_flow_memberships(use_flows=relFlows,color_genes=down_geneset,n_genes=gene_to_consider)\n",
    "fa_crisp.get_confusion_matrix(scores_df,down_geneset,gene_to_consider,outfile=\"./confusion_matrices/Genes_pattern3_crisp.csv\")\n",
    "\n",
    "genes, scores_df,_=fa_gaussian.plot_flow_memberships(use_flows=relFlows,color_genes=down_geneset,n_genes=gene_to_consider)\n",
    "fa_gaussian.get_confusion_matrix(scores_df,down_geneset,gene_to_consider,outfile=\"./confusion_matrices/Genes_pattern3_gaussian.csv\")\n",
    "\n",
    "genes, scores_df,_=fa_triangular.plot_flow_memberships(use_flows=relFlows,color_genes=down_geneset,n_genes=gene_to_consider)\n",
    "fa_triangular.get_confusion_matrix(scores_df,down_geneset,gene_to_consider,outfile=\"./confusion_matrices/Genes_pattern3_triangular.csv\")"
   ]
  },
  {
   "cell_type": "code",
   "execution_count": null,
   "metadata": {},
   "outputs": [],
   "source": [
    "\n",
    "pwScores_crisp = fa_crisp.analyse_pathways_grouped(use_flows=relFlows,pathways_file=pw_file)\n",
    "pwScores_signif_crisp=pwScores_crisp[pwScores_crisp[\"adj_pval\"]<0.05]\n",
    "print(\"Crisp) Found: \"+ str(pwScores_signif_crisp[pwScores_signif_crisp[\"pwid\"].isin(down_pathways)].shape[0])+\" / \"+str(len(down_pathways))+\" with  \"+ str(pwScores_signif_crisp.shape[0]) +\" significant\")\n",
    "confusion_matrix(down_pathways,pwScores_signif_crisp[\"pwid\"],pwScores_crisp[\"pwid\"],outfile=\"./confusion_matrices/Pathways_pattern3_crisp.csv\")\n",
    "\n",
    "pwScores_gaussian = fa_gaussian.analyse_pathways_grouped(use_flows=relFlows,pathways_file=pw_file)\n",
    "pwScores_signif_gaussian=pwScores_gaussian[pwScores_gaussian[\"adj_pval\"]<0.05]\n",
    "print(\"Gaussian) Found: \"+ str(pwScores_signif_gaussian[pwScores_signif_gaussian[\"pwid\"].isin(down_pathways)].shape[0])+\" / \"+str(len(down_pathways))+\" with  \"+ str(pwScores_signif_gaussian.shape[0]) +\" significant\")\n",
    "confusion_matrix(down_pathways,pwScores_signif_gaussian[\"pwid\"],pwScores_gaussian[\"pwid\"],outfile=\"./confusion_matrices/Pathways_pattern3_gaussian.csv\")\n",
    "\n",
    "pwScores_triangular = fa_triangular.analyse_pathways_grouped(use_flows=relFlows,pathways_file=pw_file)\n",
    "pwScores_signif_triangular=pwScores_triangular[pwScores_triangular[\"adj_pval\"]<0.05]\n",
    "print(\"Triangular) Found: \"+ str(pwScores_signif_triangular[pwScores_signif_triangular[\"pwid\"].isin(down_pathways)].shape[0])+\" / \"+str(len(down_pathways))+\" with  \"+ str(pwScores_signif_triangular.shape[0]) +\" significant\")\n",
    "confusion_matrix(down_pathways,pwScores_signif_triangular[\"pwid\"],pwScores_triangular[\"pwid\"],outfile=\"./confusion_matrices/Pathways_pattern3_triangular.csv\")\n",
    "\n",
    "results={ 'triangular': pwScores_signif_triangular[\"pwid\"], 'gaussian': pwScores_signif_gaussian[\"pwid\"], 'crisp': pwScores_signif_crisp[\"pwid\"] }\n",
    "\n",
    "\n",
    "upset=from_contents(results)\n",
    "upsetpl = UpSet(upset, orientation='vertical')\n",
    "upsetpl.plot()    \n",
    "\n",
    "plt.suptitle(\"Overlaps of genesets found with the different fuzzy concepts\")\n",
    "plt.show()\n",
    "\n",
    "\n",
    "\n",
    "\n",
    "\n"
   ]
  },
  {
   "cell_type": "code",
   "execution_count": null,
   "metadata": {
    "tags": []
   },
   "outputs": [],
   "source": [
    "\n",
    "import os\n",
    "cm_folder=\"./confusion_matrices\"\n",
    "files = [f for f in os.listdir(cm_folder) if os.path.isfile(join(cm_folder, f))]\n",
    "files\n",
    "\n",
    "def get_stats(file):\n",
    "    cm1=pd.read_csv(cm_folder+\"/\"+file,header=0,index_col=0)\n",
    "    total=cm1.sum(axis=1 ).sum(axis=0 )\n",
    "    #####from confusion matrix calculate accuracy\n",
    "    accuracy=(cm1.iloc[0,0]+cm1.iloc[1,1])/total\n",
    "    precision=cm1.iloc[0,0]/(cm1.iloc[0,0]+cm1.iloc[0,1])\n",
    "    recall=cm1.iloc[0,0]/(cm1.iloc[0,0]+cm1.iloc[1,0])\n",
    "    sensitivity = cm1.iloc[0,0]/(cm1.iloc[0,0]+cm1.iloc[0,1])\n",
    "    specificity = cm1.iloc[1,1]/(cm1.iloc[1,0]+cm1.iloc[1,1])\n",
    "    f1=2*cm1.iloc[0,0]/(2*cm1.iloc[0,0]+cm1.iloc[1,0]+cm1.iloc[0,1])\n",
    "    jaccard=cm1.iloc[0,0]/(cm1.iloc[0,0]+cm1.iloc[0,1]+cm1.iloc[1,0])\n",
    "\n",
    "    return(file,accuracy,sensitivity,specificity,f1,precision,recall,jaccard)\n",
    "\n",
    "df = pd.DataFrame(columns=['acc','sens','spec','f1','precision','recall','jaccard'], index=files)\n",
    "\n",
    "for file in files:\n",
    "    file,accuracy,sensitivity,specificity,f1,precision,recall,jaccard=get_stats(file)\n",
    "    df.loc[file] = pd.Series({'acc':accuracy, 'sens':sensitivity, 'spec':specificity, 'f1':f1,'precision':precision,'recall':recall,'jaccard':jaccard})\n",
    "df=df.sort_index()\n",
    "\n",
    "df=df.fillna(0)\n",
    "df[\"short_name\"]=[x.split(\".\")[0].upper() for x in df.index]\n",
    "df[\"cond1\"]=[x.split(\"_\")[0] for x in df[\"short_name\"]]\n",
    "df[\"cond2\"]=[x.split(\"_\")[1] for x in df[\"short_name\"]]\n",
    "df[\"cond3\"]=[x.split(\"_\")[2] for x in df[\"short_name\"] ]\n",
    "\n",
    "df=df.sort_values(['cond1', 'cond3'], ascending=[True, True])\n",
    "\n",
    "\n",
    "my_range=np.arange(len(df.index))\n",
    "fig = plt.figure(figsize=(10, 5))\n",
    "ax = plt.axes()\n",
    "ax.set_facecolor(\"white\")\n",
    "plt.grid(True,axis=\"y\")\n",
    "#plt.stem(my_range-0.3,df['acc'],'r',label=\"acc\")\n",
    "#plt.stem(my_range-0.15,df['spec'],\"b\",label=\"spec\")\n",
    "plt.stem(my_range,df['recall'],\"tab:orange\",label=\"recall\")\n",
    "plt.stem(my_range-0.15,df['precision'],\"tab:blue\",label=\"prec\")\n",
    "plt.stem(my_range+0.15,df['f1'],\"tab:green\",label=\"f1\")\n",
    "plt.stem(my_range+0.3,df['jaccard'],\"tab:red\",label=\"jaccard\")\n",
    "\n",
    "\n",
    "plt.xticks( my_range, df['short_name'], rotation = 90,)\n",
    "plt.legend(loc=(1.04, 0),fontsize=10)\n",
    "\n",
    "plt.xticks(size = 12)\n",
    "plt.yticks(size = 10)\n",
    "plt.savefig('./benchmark.pdf', bbox_inches='tight')\n",
    "    "
   ]
  },
  {
   "cell_type": "code",
   "execution_count": null,
   "metadata": {
    "tags": []
   },
   "outputs": [],
   "source": [
    "print(df)"
   ]
  }
 ],
 "metadata": {
  "kernelspec": {
   "display_name": "Python 3.10",
   "language": "python",
   "name": "python3"
  },
  "language_info": {
   "codemirror_mode": {
    "name": "ipython",
    "version": 3
   },
   "file_extension": ".py",
   "mimetype": "text/x-python",
   "name": "python",
   "nbconvert_exporter": "python",
   "pygments_lexer": "ipython3",
   "version": "3.10.10"
  },
  "vscode": {
   "interpreter": {
    "hash": "31f2aee4e71d21fbe5cf8b01ff0e069b9275f58929596ceb00d14d90e3e16cd6"
   }
  }
 },
 "nbformat": 4,
 "nbformat_minor": 4
}
