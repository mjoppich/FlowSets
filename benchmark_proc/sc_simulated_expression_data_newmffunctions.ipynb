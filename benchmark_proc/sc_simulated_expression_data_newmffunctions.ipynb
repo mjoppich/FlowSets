{
 "cells": [
  {
   "attachments": {},
   "cell_type": "markdown",
   "metadata": {},
   "source": [
    "# Setup pipeline and initialize the three models"
   ]
  },
  {
   "cell_type": "code",
   "execution_count": 55,
   "metadata": {},
   "outputs": [],
   "source": [
    "%load_ext autoreload\n",
    "\n",
    "import os, sys\n",
    "sys.path.insert(0, \"../\")\n",
    "\n",
    "%autoreload 2\n",
    "from flowset import *\n",
    "\n",
    "import matplotlib as mpl\n",
    "mpl.rcParams['figure.dpi'] = 300\n"
   ]
  },
  {
   "cell_type": "code",
   "execution_count": null,
   "metadata": {},
   "outputs": [],
   "source": [
    "def download_and_unzip(download_url_link, dir_path, zipped_filename,destination_dir_name):\n",
    "    #https://www.tutorialsbuddy.com/download-and-unzip-a-zipped-file-in-python\n",
    "    print(\"Download starting\")\n",
    "    urllib.request.urlretrieve(\n",
    "        download_url_link, os.path.join(dir_path, zipped_filename)\n",
    "    )\n",
    "    print(\"Download complete\")\n",
    "\n",
    "    print(\"unzipping file starting\")\n",
    "    with zipfile.ZipFile(os.path.join(dir_path, zipped_filename), \"r\") as zip_file:\n",
    "        zip_file.extractall(os.path.join(dir_path, destination_dir_name))\n",
    "    print(\"unzipping complete\")\n",
    "\n",
    "\n",
    "if not os.path.exists(\"ReactomePathways.gmt\"):\n",
    "    download_and_unzip(\"https://reactome.org/download/current/ReactomePathways.gmt.zip\", \".\", \"ReactomePathways.gmt.zip\", \".\")"
   ]
  },
  {
   "cell_type": "code",
   "execution_count": null,
   "metadata": {},
   "outputs": [],
   "source": [
    "exprData = pl.read_csv(\"./summarised_simulated_scdata_random.tsv\", has_header=True, sep=\"\\t\", null_values=[\"NA\"])\n",
    "print(exprData)"
   ]
  },
  {
   "cell_type": "code",
   "execution_count": null,
   "metadata": {},
   "outputs": [],
   "source": [
    "def pl_hist(df, column, n_bins=100,):\n",
    "    data = df.select(pl.col(column))\n",
    "    \n",
    "    fig, ax = plt.subplots(1, 1, tight_layout=True)\n",
    "    ax.hist(data, bins=n_bins, density=True)\n",
    "    \n",
    "    plt.show()\n",
    "    plt.close()\n",
    "pl_hist(exprData, \"mean.cluster\")\n",
    "pl_hist(exprData, \"expr.cluster\")"
   ]
  },
  {
   "cell_type": "code",
   "execution_count": null,
   "metadata": {},
   "outputs": [],
   "source": [
    "explDFRaw, mfFuzzy = FlowAnalysis.fuzzify_exprvalues(exprData, stepsize=0.1,seriesOrder=[\"cluster.wildtype\", \"cluster.knockout01\", \"cluster.knockout02\", \"cluster.knockout03\"],mfLevels = [\"NO\",\"NOLOW\",\"LOW\",\"LOWMED\",\"MED\",\"MEDHIGH\",\"HIGH\"],centers=[.1,.5,.9,1.3,1.7,2.1,2.5])\n",
    "explDFWide = FlowAnalysis.to_vwide(explDFRaw, mfFuzzy)\n",
    "print(explDFWide)"
   ]
  },
  {
   "cell_type": "code",
   "execution_count": null,
   "metadata": {},
   "outputs": [],
   "source": [
    "fa_triangular = FlowAnalysis(explDFWide, \"gene\", ((\"wildtype\",\"WT\"),  (\"knockout01\",\"K01\"),  (\"knockout02\",\"KO2\"),  (\"knockout03\",\"KO3\")), mfFuzzy) \n",
    "fa_triangular.plot_flows()"
   ]
  },
  {
   "cell_type": "code",
   "execution_count": null,
   "metadata": {},
   "outputs": [],
   "source": [
    "\n",
    "explDFRaw, mfFuzzy = FlowAnalysis.exprDF2LongDF(exprData, stepsize=0.1,seriesOrder=[\"cluster.wildtype\", \"cluster.knockout01\", \"cluster.knockout02\", \"cluster.knockout03\"],mfLevels = [\"NO\",\"NOLOW\",\"LOW\",\"LOWMED\",\"MED\",\"MEDHIGH\",\"HIGH\"],centers=[.1,.5,.9,1.3,1.7,2.1,2.5],shape=\"gauss\")\n",
    "explDFWide = FlowAnalysis.to_vwide(explDFRaw, mfFuzzy)\n",
    "print(explDFWide)\n",
    "fa_gaussian = FlowAnalysis(explDFWide, \"gene\",((\"wildtype\",\"WT\"),  (\"knockout01\",\"K01\"),  (\"knockout02\",\"KO2\"),  (\"knockout03\",\"KO3\")), mfFuzzy) \n",
    "fa_gaussian.plot_flows()\n"
   ]
  },
  {
   "cell_type": "code",
   "execution_count": null,
   "metadata": {},
   "outputs": [],
   "source": [
    "#Here not inly \n",
    "explDFRaw, mfFuzzy = FlowAnalysis.exprDF2LongDF(exprData, stepsize=0.1,seriesOrder=[\"cluster.wildtype\", \"cluster.knockout01\", \"cluster.knockout02\", \"cluster.knockout03\"],mfLevels = [\"NO\",\"NOLOW\",\"LOW\",\"LOWMED\",\"MED\",\"MEDHIGH\",\"HIGH\"],centers=[.1,.5,.9,1.3,1.7,2.1,2.5], sdcolName=None, shape=\"crisp\")\n",
    "explDFWide = FlowAnalysis.to_vwide(explDFRaw, mfFuzzy)\n",
    "print(explDFWide)\n",
    "fa_crisp = FlowAnalysis(explDFWide, \"gene\",((\"wildtype\",\"WT\"),  (\"knockout01\",\"K01\"),  (\"knockout02\",\"KO2\"),  (\"knockout03\",\"KO3\")), mfFuzzy) \n",
    "fa_crisp.plot_flows()\n"
   ]
  },
  {
   "cell_type": "code",
   "execution_count": null,
   "metadata": {},
   "outputs": [],
   "source": [
    "\n",
    "fa_crisp.hist_level_membershipsum()\n",
    "fa_gaussian.hist_level_membershipsum()\n",
    "fa_triangular.hist_level_membershipsum()\n"
   ]
  },
  {
   "cell_type": "code",
   "execution_count": null,
   "metadata": {},
   "outputs": [],
   "source": [
    "pw_file=\"go_human_filtered.bp.gmt\"\n",
    "rp = fa_crisp.read_gmt_file(pw_file)\n"
   ]
  },
  {
   "cell_type": "code",
   "execution_count": null,
   "metadata": {},
   "outputs": [],
   "source": [
    "alteredPathways=pd.read_csv('simulated_changingPathways_random.tsv',sep='\\t')\n",
    "\n",
    "pattern_groups=dict()\n",
    "for pattern in alteredPathways[alteredPathways.duplicated() == False].iterrows():\n",
    "    strpattern = '-'.join(pattern[-1].astype(str))\n",
    "    pattern_groups[strpattern]=alteredPathways[[x[-1].equals(pattern[-1]) for x in alteredPathways.iterrows()]].index\n",
    "\n",
    "pattern_groups"
   ]
  },
  {
   "attachments": {},
   "cell_type": "markdown",
   "metadata": {},
   "source": [
    "# Basic overview over the memberships of the altered genes in the differnt states and models"
   ]
  },
  {
   "cell_type": "code",
   "execution_count": null,
   "metadata": {},
   "outputs": [],
   "source": [
    "\n",
    "pwnames=[rp[x][0] for x in rp]\n",
    "\n",
    "for key, value in pattern_groups.items():\n",
    "    union_geneset=[rp[list(rp.keys())[pwnames.index(p)]][1] for p in value]\n",
    "    union_geneset = [item for sublist in union_geneset for item in sublist]\n",
    "    print(union_geneset)\n",
    "\n",
    "    fa_crisp.plot_state_memberships(union_geneset,\"Crisp: Pattern -> \"+key)\n",
    "    fa_crisp.plot_genes_membership(union_geneset)\n",
    "    fa_crisp.plot_genes(union_geneset)\n",
    "\n",
    "\n",
    "    fa_gaussian.plot_state_memberships(union_geneset,\"Gaussian: Pattern -> \"+key)\n",
    "    fa_gaussian.plot_genes_membership(union_geneset)\n",
    "    fa_gaussian.plot_genes(union_geneset)\n",
    "\n",
    "    fa_triangular.plot_state_memberships(union_geneset,\"Triangular: Pattern -> \"+key)\n",
    "    fa_triangular.plot_genes_membership(union_geneset)\n",
    "    fa_triangular.plot_genes(union_geneset)\n",
    "\n",
    "\n"
   ]
  },
  {
   "cell_type": "code",
   "execution_count": null,
   "metadata": {},
   "outputs": [],
   "source": [
    "\n",
    "fa_crisp.plot_genes([\"TLR4\"])\n",
    "fa_gaussian.plot_genes([\"TLR4\"])\n",
    "fa_triangular.plot_genes([\"TLR4\"])\n"
   ]
  },
  {
   "attachments": {},
   "cell_type": "markdown",
   "metadata": {},
   "source": [
    "# Analyse \"UP\" pattern\n",
    "The first pattern is analyzed.\n",
    "First with only the genes changed through the pathways and then pathway enrichment."
   ]
  },
  {
   "cell_type": "code",
   "execution_count": null,
   "metadata": {},
   "outputs": [],
   "source": [
    "# Analyse simulated UP pattern\n",
    "\n",
    "up_geneset=[]\n",
    "up_pathways=[]\n",
    "key=list(pattern_groups.keys())[0]\n",
    "value=pattern_groups[key]\n",
    "union_geneset=[rp[list(rp.keys())[pwnames.index(p)]][1] for p in value]\n",
    "up_pathways=[list(rp.keys())[pwnames.index(p)] for p in value]\n",
    "up_geneset = [item for sublist in union_geneset for item in sublist]\n",
    "\n",
    "relFlows = set().union(*\n",
    "    [\n",
    "    fa_crisp.flow_finder([\"=\", \"<\", \"=\"], verbose=True)\n",
    "    ]\n",
    ")\n",
    "\n",
    "relFlows_strong = set().union(*\n",
    "    [\n",
    "    fa_triangular.flow_finder([\"=\", \"<<\", \"=\"], verbose=True)\n",
    "    ]\n",
    ")\n",
    "\n",
    "print(len(up_geneset))"
   ]
  },
  {
   "cell_type": "code",
   "execution_count": null,
   "metadata": {},
   "outputs": [],
   "source": [
    "\n",
    "fa_crisp.plot_flow_memberships(use_flows=relFlows,color_genes=up_geneset)\n",
    "fa_gaussian.plot_flow_memberships(use_flows=relFlows_strong,color_genes=up_geneset)\n",
    "fa_triangular.plot_flow_memberships(use_flows=relFlows_strong,color_genes=up_geneset)"
   ]
  },
  {
   "cell_type": "code",
   "execution_count": null,
   "metadata": {},
   "outputs": [],
   "source": [
    "\n",
    "pwScores_crisp = fa_crisp.analyse_pathways_grouped(use_flows=relFlows,pathways_file=pw_file)\n",
    "pwScores_signif_crisp=pwScores_crisp[pwScores_crisp[\"adj_pval\"]<0.05]\n",
    "print(\"Crisp) Found: \"+ str(pwScores_signif_crisp[pwScores_signif_crisp[\"pwid\"].isin(up_pathways)].shape[0])+\" / \"+str(len(up_pathways))+\" with  \"+ str(pwScores_signif_crisp.shape[0]) +\" significant\")\n",
    "\n",
    "pwScores_gaussian = fa_gaussian.analyse_pathways_grouped(use_flows=relFlows_strong,pathways_file=pw_file)\n",
    "pwScores_signif_gaussian=pwScores_gaussian[pwScores_gaussian[\"adj_pval\"]<0.05]\n",
    "print(\"Gaussian) Found: \"+ str(pwScores_signif_gaussian[pwScores_signif_gaussian[\"pwid\"].isin(up_pathways)].shape[0])+\" / \"+str(len(up_pathways))+\" with  \"+ str(pwScores_signif_gaussian.shape[0]) +\" significant\")\n",
    "\n",
    "pwScores_triangular = fa_triangular.analyse_pathways_grouped(use_flows=relFlows_strong,pathways_file=pw_file)\n",
    "pwScores_signif_triangular=pwScores_triangular[pwScores_triangular[\"adj_pval\"]<0.05]\n",
    "print(\"Triangular) Found: \"+ str(pwScores_signif_triangular[pwScores_signif_triangular[\"pwid\"].isin(up_pathways)].shape[0])+\" / \"+str(len(up_pathways))+\" with  \"+ str(pwScores_signif_triangular.shape[0]) +\" significant\")\n",
    "\n",
    "from upsetplot import plot, from_contents,UpSet\n",
    "results={ 'triangular': pwScores_signif_triangular[\"pwid\"], 'gaussian': pwScores_signif_gaussian[\"pwid\"], 'crisp': pwScores_signif_crisp[\"pwid\"] }\n",
    "\n",
    "\n",
    "upset=from_contents(results)\n",
    "upsetpl = UpSet(upset, orientation='vertical')\n",
    "upsetpl.plot()    \n",
    "\n",
    "plt.suptitle(\"Overlaps of genesets found with the different fuzzy concepts\")\n",
    "plt.show()"
   ]
  },
  {
   "attachments": {},
   "cell_type": "markdown",
   "metadata": {},
   "source": [
    "# Temp up pattern\n"
   ]
  },
  {
   "cell_type": "code",
   "execution_count": null,
   "metadata": {},
   "outputs": [],
   "source": [
    "# Analyse tUP pattern\n",
    "\n",
    "tup_geneset=[]\n",
    "tup_pathways=[]\n",
    "key=list(pattern_groups.keys())[1]\n",
    "value=pattern_groups[key]\n",
    "union_geneset=[rp[list(rp.keys())[pwnames.index(p)]][1] for p in value]\n",
    "tup_pathways=[list(rp.keys())[pwnames.index(p)] for p in value]\n",
    "tup_geneset = [item for sublist in union_geneset for item in sublist]\n",
    "\n",
    "relFlows = set().union(*\n",
    "    [\n",
    "    fa_crisp.flow_finder([\"<\", \"=\", \">\"], verbose=True)\n",
    "    ]\n",
    ")\n",
    "relFlows_strong = set().union(*\n",
    "    [\n",
    "\n",
    "    fa_triangular.flow_finder([\"<<\", \"=\", \">>\"], verbose=True)\n",
    "    ]\n",
    ")\n",
    "print(len(tup_geneset))"
   ]
  },
  {
   "cell_type": "code",
   "execution_count": null,
   "metadata": {},
   "outputs": [],
   "source": [
    "\n",
    "fa_crisp.plot_flow_memberships(use_flows=relFlows,color_genes=tup_geneset)\n",
    "fa_gaussian.plot_flow_memberships(use_flows=relFlows_strong,color_genes=tup_geneset)\n",
    "fa_triangular.plot_flow_memberships(use_flows=relFlows_strong,color_genes=tup_geneset)"
   ]
  },
  {
   "cell_type": "code",
   "execution_count": null,
   "metadata": {},
   "outputs": [],
   "source": [
    "\n",
    "pwScores_crisp = fa_crisp.analyse_pathways_grouped(use_flows=relFlows,pathways_file=pw_file)\n",
    "pwScores_signif_crisp=pwScores_crisp[pwScores_crisp[\"adj_pval\"]<0.05]\n",
    "print(\"Crisp) Found: \"+ str(pwScores_signif_crisp[pwScores_signif_crisp[\"pwid\"].isin(tup_pathways)].shape[0])+\" / \"+str(len(tup_pathways))+\" with  \"+ str(pwScores_signif_crisp.shape[0]) +\" significant\")\n",
    "\n",
    "pwScores_gaussian = fa_gaussian.analyse_pathways_grouped(use_flows=relFlows_strong,pathways_file=pw_file)\n",
    "pwScores_signif_gaussian=pwScores_gaussian[pwScores_gaussian[\"adj_pval\"]<0.05]\n",
    "print(\"Gaussian) Found: \"+ str(pwScores_signif_gaussian[pwScores_signif_gaussian[\"pwid\"].isin(tup_pathways)].shape[0])+\" / \"+str(len(tup_pathways))+\" with  \"+ str(pwScores_signif_gaussian.shape[0]) +\" significant\")\n",
    "\n",
    "pwScores_triangular = fa_triangular.analyse_pathways_grouped(use_flows=relFlows_strong,pathways_file=pw_file)\n",
    "pwScores_signif_triangular=pwScores_triangular[pwScores_triangular[\"adj_pval\"]<0.05]\n",
    "print(\"Triangular) Found: \"+ str(pwScores_signif_triangular[pwScores_signif_triangular[\"pwid\"].isin(tup_pathways)].shape[0])+\" / \"+str(len(tup_pathways))+\" with  \"+ str(pwScores_signif_triangular.shape[0]) +\" significant\")\n",
    "\n",
    "from upsetplot import plot, from_contents,UpSet\n",
    "results={ 'triangular': pwScores_signif_triangular[\"pwid\"], 'gaussian': pwScores_signif_gaussian[\"pwid\"], 'crisp': pwScores_signif_crisp[\"pwid\"] }\n",
    "\n",
    "\n",
    "upset=from_contents(results)\n",
    "upsetpl = UpSet(upset, orientation='vertical')\n",
    "upsetpl.plot()    \n",
    "\n",
    "plt.suptitle(\"Overlaps of genesets found with the different fuzzy concepts\")\n",
    "plt.show()"
   ]
  },
  {
   "attachments": {},
   "cell_type": "markdown",
   "metadata": {},
   "source": [
    "# DOWN pattern"
   ]
  },
  {
   "cell_type": "code",
   "execution_count": null,
   "metadata": {},
   "outputs": [],
   "source": [
    "# Analyse simulated DOWN pattern\n",
    "\n",
    "down_geneset=[]\n",
    "down_pathways=[]\n",
    "key=list(pattern_groups.keys())[2]\n",
    "value=pattern_groups[key]\n",
    "union_geneset=[rp[list(rp.keys())[pwnames.index(p)]][1] for p in value]\n",
    "down_pathways=[list(rp.keys())[pwnames.index(p)] for p in value]\n",
    "down_geneset = [item for sublist in union_geneset for item in sublist]\n",
    "\n",
    "relFlows = set().union(*\n",
    "    [\n",
    "    fa_crisp.flow_finder([\"=\", \">\", \"=\"], verbose=True)\n",
    "    ]\n",
    ")\n",
    "relFlows_strong = set().union(*\n",
    "    [\n",
    "    fa_triangular.flow_finder([\"=\", \">>\", \"=\"], verbose=True)\n",
    "    ]\n",
    ")\n",
    "\n",
    "print(len(down_geneset))"
   ]
  },
  {
   "cell_type": "code",
   "execution_count": null,
   "metadata": {},
   "outputs": [],
   "source": [
    "\n",
    "fa_crisp.plot_flow_memberships(use_flows=relFlows,color_genes=down_geneset)\n",
    "fa_gaussian.plot_flow_memberships(use_flows=relFlows_strong,color_genes=down_geneset)\n",
    "fa_triangular.plot_flow_memberships(use_flows=relFlows_strong,color_genes=down_geneset)"
   ]
  },
  {
   "cell_type": "code",
   "execution_count": null,
   "metadata": {},
   "outputs": [],
   "source": [
    "\n",
    "pwScores_crisp = fa_crisp.analyse_pathways_grouped(use_flows=relFlows,pathways_file=pw_file)\n",
    "pwScores_signif_crisp=pwScores_crisp[pwScores_crisp[\"adj_pval\"]<0.05]\n",
    "print(\"Crisp) Found: \"+ str(pwScores_signif_crisp[pwScores_signif_crisp[\"pwid\"].isin(down_pathways)].shape[0])+\" / \"+str(len(down_pathways))+\" with  \"+ str(pwScores_signif_crisp.shape[0]) +\" significant\")\n",
    "\n",
    "pwScores_gaussian = fa_gaussian.analyse_pathways_grouped(use_flows=relFlows_strong,pathways_file=pw_file)\n",
    "pwScores_signif_gaussian=pwScores_gaussian[pwScores_gaussian[\"adj_pval\"]<0.05]\n",
    "print(\"Gaussian) Found: \"+ str(pwScores_signif_gaussian[pwScores_signif_gaussian[\"pwid\"].isin(down_pathways)].shape[0])+\" / \"+str(len(down_pathways))+\" with  \"+ str(pwScores_signif_gaussian.shape[0]) +\" significant\")\n",
    "\n",
    "pwScores_triangular = fa_triangular.analyse_pathways_grouped(use_flows=relFlows_strong,pathways_file=pw_file)\n",
    "pwScores_signif_triangular=pwScores_triangular[pwScores_triangular[\"adj_pval\"]<0.05]\n",
    "print(\"Triangular) Found: \"+ str(pwScores_signif_triangular[pwScores_signif_triangular[\"pwid\"].isin(down_pathways)].shape[0])+\" / \"+str(len(down_pathways))+\" with  \"+ str(pwScores_signif_triangular.shape[0]) +\" significant\")\n",
    "\n",
    "from upsetplot import plot, from_contents,UpSet\n",
    "results={ 'triangular': pwScores_signif_triangular[\"pwid\"], 'gaussian': pwScores_signif_gaussian[\"pwid\"], 'crisp': pwScores_signif_crisp[\"pwid\"] }\n",
    "\n",
    "\n",
    "upset=from_contents(results)\n",
    "upsetpl = UpSet(upset, orientation='vertical')\n",
    "upsetpl.plot()    \n",
    "\n",
    "plt.suptitle(\"Overlaps of genesets found with the different fuzzy concepts\")\n",
    "plt.show()"
   ]
  }
 ],
 "metadata": {
  "kernelspec": {
   "display_name": "Python 3",
   "language": "python",
   "name": "python3"
  },
  "language_info": {
   "codemirror_mode": {
    "name": "ipython",
    "version": 3
   },
   "file_extension": ".py",
   "mimetype": "text/x-python",
   "name": "python",
   "nbconvert_exporter": "python",
   "pygments_lexer": "ipython3",
   "version": "3.8.10"
  },
  "orig_nbformat": 4,
  "vscode": {
   "interpreter": {
    "hash": "31f2aee4e71d21fbe5cf8b01ff0e069b9275f58929596ceb00d14d90e3e16cd6"
   }
  }
 },
 "nbformat": 4,
 "nbformat_minor": 2
}
