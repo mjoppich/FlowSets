{
 "cells": [
  {
   "cell_type": "code",
   "execution_count": 5,
   "id": "e484f1c3-8e18-4efd-a2d6-e874e7d6992a",
   "metadata": {
    "tags": []
   },
   "outputs": [
    {
     "name": "stdout",
     "output_type": "stream",
     "text": [
      "The autoreload extension is already loaded. To reload it, use:\n",
      "  %reload_ext autoreload\n"
     ]
    }
   ],
   "source": [
    "%load_ext autoreload\n",
    "\n",
    "import os, sys\n",
    "sys.path.insert(0, \"../\")\n",
    "\n",
    "%autoreload 2\n",
    "from flowset import *\n",
    "\n",
    "import polars as pl\n",
    "\n",
    "import matplotlib as mpl\n",
    "mpl.rcParams['figure.dpi'] = 300\n"
   ]
  },
  {
   "cell_type": "code",
   "execution_count": null,
   "id": "b858293f-010d-40b8-af6c-1826b292dd22",
   "metadata": {
    "tags": []
   },
   "outputs": [],
   "source": [
    "def download_and_unzip(download_url_link, dir_path, zipped_filename,destination_dir_name):\n",
    "    #https://www.tutorialsbuddy.com/download-and-unzip-a-zipped-file-in-python\n",
    "    print(\"Download starting\")\n",
    "    urllib.request.urlretrieve(\n",
    "        download_url_link, os.path.join(dir_path, zipped_filename)r\n",
    "    )\n",
    "    print(\"Download complete\")\n",
    "\n",
    "    print(\"unzipping file starting\")\n",
    "    with zipfile.ZipFile(os.path.join(dir_path, zipped_filename), \"r\") as zip_file:\n",
    "        zip_file.extractall(os.path.join(dir_path, destination_dir_name))\n",
    "    print(\"unzipping complete\")\n",
    "\n",
    "\n",
    "if not os.path.exists(\"ReactomePathways.gmt\"):\n",
    "    download_and_unzip(\"https://reactome.org/download/current/ReactomePathways.gmt.zip\", \".\", \"ReactomePathways.gmt.zip\", \".\")"
   ]
  },
  {
   "cell_type": "code",
   "execution_count": null,
   "id": "7ea21aa8-a04d-4259-8ca3-31f250cfe976",
   "metadata": {},
   "outputs": [],
   "source": []
  },
  {
   "cell_type": "code",
   "execution_count": null,
   "id": "62c6922a-2f79-43b1-a4ec-787b51f85041",
   "metadata": {},
   "outputs": [],
   "source": []
  },
  {
   "cell_type": "code",
   "execution_count": null,
   "id": "aa86c2fb-163d-4138-a713-77362e6df24b",
   "metadata": {},
   "outputs": [],
   "source": []
  },
  {
   "cell_type": "code",
   "execution_count": null,
   "id": "6acf9f0f-b379-4102-9dad-539c4f5ee421",
   "metadata": {},
   "outputs": [],
   "source": []
  },
  {
   "cell_type": "code",
   "execution_count": null,
   "id": "4deddcbe-c589-4a10-a282-d5543604d1d8",
   "metadata": {},
   "outputs": [],
   "source": []
  },
  {
   "cell_type": "code",
   "execution_count": null,
   "id": "76fe158a-5da3-4bc7-9f75-0a1b58bd7cdd",
   "metadata": {},
   "outputs": [],
   "source": []
  },
  {
   "cell_type": "code",
   "execution_count": null,
   "id": "e3021472-50e5-4a96-b503-a98a7c6e7ed8",
   "metadata": {},
   "outputs": [],
   "source": []
  },
  {
   "cell_type": "code",
   "execution_count": null,
   "id": "630ee75d-2d4b-4215-bb65-437c1ed0def3",
   "metadata": {},
   "outputs": [],
   "source": []
  },
  {
   "cell_type": "code",
   "execution_count": null,
   "id": "948e6ee0-c5ac-4310-9077-ba250b8bf25a",
   "metadata": {},
   "outputs": [],
   "source": []
  }
 ],
 "metadata": {
  "kernelspec": {
   "display_name": "Python 3.11",
   "language": "python",
   "name": "python3.11"
  },
  "language_info": {
   "codemirror_mode": {
    "name": "ipython",
    "version": 3
   },
   "file_extension": ".py",
   "mimetype": "text/x-python",
   "name": "python",
   "nbconvert_exporter": "python",
   "pygments_lexer": "ipython3",
   "version": "3.11.2"
  }
 },
 "nbformat": 4,
 "nbformat_minor": 5
}
